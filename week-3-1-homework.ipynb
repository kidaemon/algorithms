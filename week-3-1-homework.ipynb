{
 "cells": [
  {
   "cell_type": "markdown",
   "metadata": {},
   "source": [
    "## Week 3-1 - Linear Regression - homework\n",
    "\n",
    "This assignment is inspired by a 2006 [story in the Pioneer Press](\n",
    "https://www.twincities.com/2010/07/09/schools-that-work-despite-appearances-schools-doing-better-than-expected-have-traits-in-common/) which asked, what makes a school succeed despite disadvantages? The reporters performed a regression of standardized test scores vs. the number of low income students at that school (actually we only have the number of students who are eligable for free meals at school, but this is a widely used proxy for the economic status of the students.)\n",
    "\n",
    "The 2006 story explains the purpose of doing the regression:\n",
    "\n",
    "\"Schools with large numbers of students from low-income families — or who move often, are learning English or have other special needs — almost always fare worse on standardized tests, most educators agree. The Pioneer Press analyzed three years of test scores from all 731 Minnesota elementary schools to predict how well each school should do when its percentage of low-income students is taken into account — effectively leveling the playing field between the haves and have-nots.\"\n",
    "\n",
    "The reporters then visited those schools that out-performed their predicted scores, trying to determine what made them succeed despite the odds.\n",
    "\n",
    "This file was adapted from a notebook created by Chase Davis and Richard Dunks for the 2015 version of this course, gratefully used with permission.\n"
   ]
  },
  {
   "cell_type": "code",
   "execution_count": 1,
   "metadata": {},
   "outputs": [],
   "source": [
    "import pandas as pd\n",
    "import numpy as np \n",
    "import matplotlib.pyplot as plt\n",
    "from sklearn.linear_model import LinearRegression\n",
    "%matplotlib inline"
   ]
  },
  {
   "cell_type": "markdown",
   "metadata": {},
   "source": [
    "### 1. Load the data\n",
    "\n",
    "Load the file and take a look. Each row is one school. The fields all have abbreviated names, and you can look at the [data dictionary](http://www.cde.ca.gov/ta/ac/ap/reclayout12b.asp) to see what's what.\n",
    "\n",
    "This is standardized test score results and many other variables for schools in California, from 2012. We are going to be looking at a variable called the Academic Performance Index (API) which is basically standardized test scores. This way of measuring school performance has was discontinued in 2017, but we're going to use this data anyway, because we can closely reproduce the original Pioneer Press analysis.\n"
   ]
  },
  {
   "cell_type": "code",
   "execution_count": 2,
   "metadata": {},
   "outputs": [
    {
     "data": {
      "text/plain": [
       "Index(['CHARTER', 'SNAME', 'DNAME', 'CNAME', 'API12B', 'ST_RANK', 'PCT_AA',\n",
       "       'PCT_AI', 'PCT_AS', 'PCT_FI', 'PCT_HI', 'PCT_PI', 'PCT_WH', 'PCT_MR',\n",
       "       'MEALS', 'P_GATE', 'P_MIGED', 'P_EL', 'P_RFEP', 'P_DI', 'ACS_K3',\n",
       "       'ACS_46', 'ACS_CORE', 'PCT_RESP', 'NOT_HSG', 'HSG', 'SOME_COL',\n",
       "       'COL_GRAD', 'GRAD_SCH', 'AVG_ED'],\n",
       "      dtype='object')"
      ]
     },
     "execution_count": 2,
     "metadata": {},
     "output_type": "execute_result"
    }
   ],
   "source": [
    "# Load `apib12tx.csv` and take a look at the raw data\n",
    "df = pd.read_csv('apib12tx.csv')\n",
    "df.columns"
   ]
  },
  {
   "cell_type": "code",
   "execution_count": 3,
   "metadata": {},
   "outputs": [
    {
     "data": {
      "text/html": [
       "<div>\n",
       "<style scoped>\n",
       "    .dataframe tbody tr th:only-of-type {\n",
       "        vertical-align: middle;\n",
       "    }\n",
       "\n",
       "    .dataframe tbody tr th {\n",
       "        vertical-align: top;\n",
       "    }\n",
       "\n",
       "    .dataframe thead th {\n",
       "        text-align: right;\n",
       "    }\n",
       "</style>\n",
       "<table border=\"1\" class=\"dataframe\">\n",
       "  <thead>\n",
       "    <tr style=\"text-align: right;\">\n",
       "      <th></th>\n",
       "      <th>CHARTER</th>\n",
       "      <th>SNAME</th>\n",
       "      <th>DNAME</th>\n",
       "      <th>CNAME</th>\n",
       "      <th>API12B</th>\n",
       "      <th>ST_RANK</th>\n",
       "      <th>PCT_AA</th>\n",
       "      <th>PCT_AI</th>\n",
       "      <th>PCT_AS</th>\n",
       "      <th>PCT_FI</th>\n",
       "      <th>...</th>\n",
       "      <th>ACS_K3</th>\n",
       "      <th>ACS_46</th>\n",
       "      <th>ACS_CORE</th>\n",
       "      <th>PCT_RESP</th>\n",
       "      <th>NOT_HSG</th>\n",
       "      <th>HSG</th>\n",
       "      <th>SOME_COL</th>\n",
       "      <th>COL_GRAD</th>\n",
       "      <th>GRAD_SCH</th>\n",
       "      <th>AVG_ED</th>\n",
       "    </tr>\n",
       "  </thead>\n",
       "  <tbody>\n",
       "    <tr>\n",
       "      <th>0</th>\n",
       "      <td>NaN</td>\n",
       "      <td>William Faria Elementary</td>\n",
       "      <td>Cupertino Union</td>\n",
       "      <td>Santa Clara</td>\n",
       "      <td>998</td>\n",
       "      <td>10</td>\n",
       "      <td>0</td>\n",
       "      <td>1</td>\n",
       "      <td>96</td>\n",
       "      <td>0</td>\n",
       "      <td>...</td>\n",
       "      <td>26.0</td>\n",
       "      <td>33.0</td>\n",
       "      <td>NaN</td>\n",
       "      <td>95</td>\n",
       "      <td>1</td>\n",
       "      <td>1</td>\n",
       "      <td>1</td>\n",
       "      <td>22</td>\n",
       "      <td>76</td>\n",
       "      <td>4.72</td>\n",
       "    </tr>\n",
       "    <tr>\n",
       "      <th>1</th>\n",
       "      <td>NaN</td>\n",
       "      <td>Millikin Elementary</td>\n",
       "      <td>Santa Clara Unified</td>\n",
       "      <td>Santa Clara</td>\n",
       "      <td>998</td>\n",
       "      <td>10</td>\n",
       "      <td>0</td>\n",
       "      <td>0</td>\n",
       "      <td>74</td>\n",
       "      <td>2</td>\n",
       "      <td>...</td>\n",
       "      <td>30.0</td>\n",
       "      <td>33.0</td>\n",
       "      <td>NaN</td>\n",
       "      <td>100</td>\n",
       "      <td>0</td>\n",
       "      <td>2</td>\n",
       "      <td>9</td>\n",
       "      <td>33</td>\n",
       "      <td>56</td>\n",
       "      <td>4.44</td>\n",
       "    </tr>\n",
       "    <tr>\n",
       "      <th>2</th>\n",
       "      <td>NaN</td>\n",
       "      <td>Manchester Gate</td>\n",
       "      <td>Fresno Unified</td>\n",
       "      <td>Fresno</td>\n",
       "      <td>998</td>\n",
       "      <td>10</td>\n",
       "      <td>4</td>\n",
       "      <td>1</td>\n",
       "      <td>11</td>\n",
       "      <td>1</td>\n",
       "      <td>...</td>\n",
       "      <td>31.0</td>\n",
       "      <td>32.0</td>\n",
       "      <td>NaN</td>\n",
       "      <td>84</td>\n",
       "      <td>5</td>\n",
       "      <td>8</td>\n",
       "      <td>29</td>\n",
       "      <td>26</td>\n",
       "      <td>32</td>\n",
       "      <td>3.71</td>\n",
       "    </tr>\n",
       "    <tr>\n",
       "      <th>3</th>\n",
       "      <td>NaN</td>\n",
       "      <td>Murdock-Portal Elementary</td>\n",
       "      <td>Cupertino Union</td>\n",
       "      <td>Santa Clara</td>\n",
       "      <td>997</td>\n",
       "      <td>10</td>\n",
       "      <td>0</td>\n",
       "      <td>1</td>\n",
       "      <td>95</td>\n",
       "      <td>0</td>\n",
       "      <td>...</td>\n",
       "      <td>23.0</td>\n",
       "      <td>30.0</td>\n",
       "      <td>NaN</td>\n",
       "      <td>99</td>\n",
       "      <td>0</td>\n",
       "      <td>0</td>\n",
       "      <td>0</td>\n",
       "      <td>14</td>\n",
       "      <td>85</td>\n",
       "      <td>4.85</td>\n",
       "    </tr>\n",
       "    <tr>\n",
       "      <th>4</th>\n",
       "      <td>NaN</td>\n",
       "      <td>Mission San Jose Elementary</td>\n",
       "      <td>Fremont Unified</td>\n",
       "      <td>Alameda</td>\n",
       "      <td>996</td>\n",
       "      <td>10</td>\n",
       "      <td>0</td>\n",
       "      <td>1</td>\n",
       "      <td>91</td>\n",
       "      <td>0</td>\n",
       "      <td>...</td>\n",
       "      <td>27.0</td>\n",
       "      <td>30.0</td>\n",
       "      <td>NaN</td>\n",
       "      <td>99</td>\n",
       "      <td>0</td>\n",
       "      <td>1</td>\n",
       "      <td>3</td>\n",
       "      <td>22</td>\n",
       "      <td>74</td>\n",
       "      <td>4.68</td>\n",
       "    </tr>\n",
       "  </tbody>\n",
       "</table>\n",
       "<p>5 rows × 30 columns</p>\n",
       "</div>"
      ],
      "text/plain": [
       "  CHARTER                        SNAME                DNAME        CNAME  \\\n",
       "0     NaN     William Faria Elementary      Cupertino Union  Santa Clara   \n",
       "1     NaN          Millikin Elementary  Santa Clara Unified  Santa Clara   \n",
       "2     NaN              Manchester Gate       Fresno Unified       Fresno   \n",
       "3     NaN    Murdock-Portal Elementary      Cupertino Union  Santa Clara   \n",
       "4     NaN  Mission San Jose Elementary      Fremont Unified      Alameda   \n",
       "\n",
       "   API12B ST_RANK  PCT_AA  PCT_AI  PCT_AS  PCT_FI   ...    ACS_K3  ACS_46  \\\n",
       "0     998      10       0       1      96       0   ...      26.0    33.0   \n",
       "1     998      10       0       0      74       2   ...      30.0    33.0   \n",
       "2     998      10       4       1      11       1   ...      31.0    32.0   \n",
       "3     997      10       0       1      95       0   ...      23.0    30.0   \n",
       "4     996      10       0       1      91       0   ...      27.0    30.0   \n",
       "\n",
       "   ACS_CORE  PCT_RESP  NOT_HSG  HSG  SOME_COL  COL_GRAD  GRAD_SCH  AVG_ED  \n",
       "0       NaN        95        1    1         1        22        76    4.72  \n",
       "1       NaN       100        0    2         9        33        56    4.44  \n",
       "2       NaN        84        5    8        29        26        32    3.71  \n",
       "3       NaN        99        0    0         0        14        85    4.85  \n",
       "4       NaN        99        0    1         3        22        74    4.68  \n",
       "\n",
       "[5 rows x 30 columns]"
      ]
     },
     "execution_count": 3,
     "metadata": {},
     "output_type": "execute_result"
    }
   ],
   "source": [
    "df.head()"
   ]
  },
  {
   "cell_type": "markdown",
   "metadata": {},
   "source": [
    "### 2. Looking at one variable at a time\n",
    "\n",
    "To start with, let's look at some histograms of single variables, to get an idea what the data (and the students) look like."
   ]
  },
  {
   "cell_type": "code",
   "execution_count": 4,
   "metadata": {},
   "outputs": [
    {
     "data": {
      "text/plain": [
       "<matplotlib.axes._subplots.AxesSubplot at 0x10ec526d8>"
      ]
     },
     "execution_count": 4,
     "metadata": {},
     "output_type": "execute_result"
    },
    {
     "data": {
      "image/png": "[encoded data removed]",
      "text/plain": [
       "<Figure size 432x288 with 1 Axes>"
      ]
     },
     "metadata": {},
     "output_type": "display_data"
    }
   ],
   "source": [
    "# Make a histogram of the API12B column, which is standardized test scores for grade 12\n",
    "df.API12B.hist()"
   ]
  },
  {
   "cell_type": "code",
   "execution_count": 5,
   "metadata": {},
   "outputs": [
    {
     "data": {
      "text/plain": [
       "<matplotlib.axes._subplots.AxesSubplot at 0x10ed905f8>"
      ]
     },
     "execution_count": 5,
     "metadata": {},
     "output_type": "execute_result"
    },
    {
     "data": {
      "image/png": "[encoded data removed]",
      "text/plain": [
       "<Figure size 432x288 with 1 Axes>"
      ]
     },
     "metadata": {},
     "output_type": "display_data"
    }
   ],
   "source": [
    "# Make a histogram of the MEALS column, which is the percentage of students enrolled in free/reduced-price lunch programs, which is often used as a proxy for poverty.\n",
    "df.MEALS.hist()"
   ]
  },
  {
   "cell_type": "markdown",
   "metadata": {},
   "source": [
    "You also find it interesting to look at variables like `PCT_WH` which is the percentage of white students, and `AVG_ED` which is the average education level of the parents of the students at that school."
   ]
  },
  {
   "cell_type": "code",
   "execution_count": 6,
   "metadata": {},
   "outputs": [
    {
     "data": {
      "text/plain": [
       "<matplotlib.axes._subplots.AxesSubplot at 0x10ee21048>"
      ]
     },
     "execution_count": 6,
     "metadata": {},
     "output_type": "execute_result"
    },
    {
     "data": {
      "image/png": "[encoded data removed]",
      "text/plain": [
       "<Figure size 432x288 with 1 Axes>"
      ]
     },
     "metadata": {},
     "output_type": "display_data"
    }
   ],
   "source": [
    "df.PCT_WH.hist()"
   ]
  },
  {
   "cell_type": "code",
   "execution_count": 7,
   "metadata": {},
   "outputs": [
    {
     "data": {
      "text/plain": [
       "<matplotlib.axes._subplots.AxesSubplot at 0x10eef4a58>"
      ]
     },
     "execution_count": 7,
     "metadata": {},
     "output_type": "execute_result"
    },
    {
     "data": {
      "image/png": "[encoded data removed]",
      "text/plain": [
       "<Figure size 432x288 with 1 Axes>"
      ]
     },
     "metadata": {},
     "output_type": "display_data"
    }
   ],
   "source": [
    "df.AVG_ED.hist()"
   ]
  },
  {
   "cell_type": "markdown",
   "metadata": {},
   "source": [
    "### 3. Looking at two variables at a time\n",
    "\n",
    "Looking at histograms of one variable at a time cant't tell us about the relationship between variables, so let's do some scatter plots to get a qualitative sense of the relationships."
   ]
  },
  {
   "cell_type": "code",
   "execution_count": 8,
   "metadata": {},
   "outputs": [
    {
     "data": {
      "text/plain": [
       "<matplotlib.axes._subplots.AxesSubplot at 0x10efda5f8>"
      ]
     },
     "execution_count": 8,
     "metadata": {},
     "output_type": "execute_result"
    },
    {
     "data": {
      "image/png": "[encoded data removed]",
      "text/plain": [
       "<Figure size 432x288 with 1 Axes>"
      ]
     },
     "metadata": {},
     "output_type": "display_data"
    }
   ],
   "source": [
    "# Make a scatter plot of test scores (`API12B`) vs the percentage of students with subsidized lunches (`MEALS`)\n",
    "df.plot(kind='scatter', x='API12B', y='MEALS')"
   ]
  },
  {
   "cell_type": "markdown",
   "metadata": {},
   "source": [
    "As expected, test scores decrease with an increasing fraction of students in poverty. The parents' education is also strongly correlated with test scores."
   ]
  },
  {
   "cell_type": "code",
   "execution_count": 9,
   "metadata": {},
   "outputs": [
    {
     "data": {
      "text/plain": [
       "<matplotlib.axes._subplots.AxesSubplot at 0x10f170128>"
      ]
     },
     "execution_count": 9,
     "metadata": {},
     "output_type": "execute_result"
    },
    {
     "data": {
      "image/png": "[encoded data removed]",
      "text/plain": [
       "<Figure size 432x288 with 1 Axes>"
      ]
     },
     "metadata": {},
     "output_type": "display_data"
    }
   ],
   "source": [
    "# Make a scatter plot of test scores vs parents' education (`AVG_ED`)\n",
    "df.plot(kind='scatter', x='API12B', y='AVG_ED')"
   ]
  },
  {
   "cell_type": "markdown",
   "metadata": {},
   "source": [
    "## Linear regression"
   ]
  },
  {
   "cell_type": "markdown",
   "metadata": {},
   "source": [
    "Let's draw trend lines through these scatter plots. Or, more precisely, we're going to use single variable linear regression to build a model of the relationship between two variables (test scores, which is the \"dependent\" variable, and one \"independent\" variable.\")\n",
    "\n",
    "Let's start with text scores vs. our poverty proxy."
   ]
  },
  {
   "cell_type": "code",
   "execution_count": 10,
   "metadata": {},
   "outputs": [],
   "source": [
    "# To start with, let's have the MEALS variable on the X axis and the API12B variable on the Y axis \n",
    "# This is some drudgery to convert dataframes into the NumPy arrays that sklearn needs\n",
    "x = df[['MEALS']].values\n",
    "y = df[['API12B']].values"
   ]
  },
  {
   "cell_type": "code",
   "execution_count": 11,
   "metadata": {},
   "outputs": [
    {
     "name": "stderr",
     "output_type": "stream",
     "text": [
      "/Users/kazuhiro.kida/.pyenv/versions/3.6.5/lib/python3.6/site-packages/sklearn/linear_model/base.py:509: RuntimeWarning: internal gelsd driver lwork query error, required iwork dimension not returned. This is likely the result of LAPACK bug 0038, fixed in LAPACK 3.2.2 (released July 21, 2010). Falling back to 'gelss' driver.\n",
      "  linalg.lstsq(X, y)\n"
     ]
    },
    {
     "data": {
      "text/plain": [
       "LinearRegression(copy_X=True, fit_intercept=True, n_jobs=1, normalize=False)"
      ]
     },
     "execution_count": 11,
     "metadata": {},
     "output_type": "execute_result"
    }
   ],
   "source": [
    "# Make a LinearRegression object and fit our data to it \n",
    "lm = LinearRegression() \n",
    "lm.fit(x, y)"
   ]
  },
  {
   "cell_type": "markdown",
   "metadata": {},
   "source": [
    "Now let's see what we've got. Make the scatter plot of scores vs. meals, and add the regression line"
   ]
  },
  {
   "cell_type": "code",
   "execution_count": 15,
   "metadata": {},
   "outputs": [
    {
     "data": {
      "text/plain": [
       "[<matplotlib.lines.Line2D at 0x10f7bd1d0>]"
      ]
     },
     "execution_count": 15,
     "metadata": {},
     "output_type": "execute_result"
    },
    {
     "data": {
      "image/png": "[encoded data removed]",
      "text/plain": [
       "<Figure size 432x288 with 1 Axes>"
      ]
     },
     "metadata": {},
     "output_type": "display_data"
    }
   ],
   "source": [
    "# scatter plot of test scores vs percentage of students eligable for subsidized meals\n",
    "df.plot(kind='scatter', x='MEALS', y='API12B')\n",
    "plt.plot(df.MEALS, m*df.MEALS+b, '-', linewidth=1, color='red')"
   ]
  },
  {
   "cell_type": "code",
   "execution_count": 13,
   "metadata": {},
   "outputs": [
    {
     "data": {
      "text/plain": [
       "array([-1.85881873])"
      ]
     },
     "execution_count": 13,
     "metadata": {},
     "output_type": "execute_result"
    }
   ],
   "source": [
    "# What is the slope of this line? That is, how many test score points do we lose \n",
    "# for every percentage point increase in students receiving subsidized meals?\n",
    "m = lm.coef_[0]\n",
    "m"
   ]
  },
  {
   "cell_type": "code",
   "execution_count": 14,
   "metadata": {},
   "outputs": [
    {
     "data": {
      "text/plain": [
       "array([898.37836133])"
      ]
     },
     "execution_count": 14,
     "metadata": {},
     "output_type": "execute_result"
    }
   ],
   "source": [
    "# And what is the intercept? That is, what does the model predict for MEALS=0?\n",
    "b = lm.intercept_\n",
    "b"
   ]
  },
  {
   "cell_type": "markdown",
   "metadata": {},
   "source": [
    "We now have a model that predicts test performance based on the number of students receiving subsidized meals. This is a pretty naive mdodel, but it's a start. And we can already learn things from it: there are some schools that seem to be doing much better than would be expected given the number of impoverished students attending. Essentially by, subtracting off the regression line we are \"taking poverty out of the equation.\"\n",
    "\n",
    "Let's take a look at some of these schools. "
   ]
  },
  {
   "cell_type": "code",
   "execution_count": 16,
   "metadata": {
    "scrolled": true
   },
   "outputs": [
    {
     "data": {
      "text/html": [
       "<div>\n",
       "<style scoped>\n",
       "    .dataframe tbody tr th:only-of-type {\n",
       "        vertical-align: middle;\n",
       "    }\n",
       "\n",
       "    .dataframe tbody tr th {\n",
       "        vertical-align: top;\n",
       "    }\n",
       "\n",
       "    .dataframe thead th {\n",
       "        text-align: right;\n",
       "    }\n",
       "</style>\n",
       "<table border=\"1\" class=\"dataframe\">\n",
       "  <thead>\n",
       "    <tr style=\"text-align: right;\">\n",
       "      <th></th>\n",
       "      <th>CHARTER</th>\n",
       "      <th>SNAME</th>\n",
       "      <th>DNAME</th>\n",
       "      <th>CNAME</th>\n",
       "      <th>API12B</th>\n",
       "      <th>ST_RANK</th>\n",
       "      <th>PCT_AA</th>\n",
       "      <th>PCT_AI</th>\n",
       "      <th>PCT_AS</th>\n",
       "      <th>PCT_FI</th>\n",
       "      <th>...</th>\n",
       "      <th>ACS_K3</th>\n",
       "      <th>ACS_46</th>\n",
       "      <th>ACS_CORE</th>\n",
       "      <th>PCT_RESP</th>\n",
       "      <th>NOT_HSG</th>\n",
       "      <th>HSG</th>\n",
       "      <th>SOME_COL</th>\n",
       "      <th>COL_GRAD</th>\n",
       "      <th>GRAD_SCH</th>\n",
       "      <th>AVG_ED</th>\n",
       "    </tr>\n",
       "  </thead>\n",
       "  <tbody>\n",
       "    <tr>\n",
       "      <th>15</th>\n",
       "      <td>NaN</td>\n",
       "      <td>Chin (John Yehall) Elementary</td>\n",
       "      <td>San Francisco Unified</td>\n",
       "      <td>San Francisco</td>\n",
       "      <td>989</td>\n",
       "      <td>10</td>\n",
       "      <td>1</td>\n",
       "      <td>0</td>\n",
       "      <td>88</td>\n",
       "      <td>1</td>\n",
       "      <td>...</td>\n",
       "      <td>21.0</td>\n",
       "      <td>27.0</td>\n",
       "      <td>NaN</td>\n",
       "      <td>96</td>\n",
       "      <td>17</td>\n",
       "      <td>47</td>\n",
       "      <td>11</td>\n",
       "      <td>22</td>\n",
       "      <td>3</td>\n",
       "      <td>2.47</td>\n",
       "    </tr>\n",
       "    <tr>\n",
       "      <th>51</th>\n",
       "      <td>D</td>\n",
       "      <td>American Indian Public Charter School II</td>\n",
       "      <td>Oakland Unified</td>\n",
       "      <td>Alameda</td>\n",
       "      <td>978</td>\n",
       "      <td>10</td>\n",
       "      <td>5</td>\n",
       "      <td>1</td>\n",
       "      <td>84</td>\n",
       "      <td>0</td>\n",
       "      <td>...</td>\n",
       "      <td>NaN</td>\n",
       "      <td>2.0</td>\n",
       "      <td>NaN</td>\n",
       "      <td>14</td>\n",
       "      <td>40</td>\n",
       "      <td>14</td>\n",
       "      <td>26</td>\n",
       "      <td>21</td>\n",
       "      <td>0</td>\n",
       "      <td>2.28</td>\n",
       "    </tr>\n",
       "    <tr>\n",
       "      <th>161</th>\n",
       "      <td>D</td>\n",
       "      <td>KIPP Raices Academy</td>\n",
       "      <td>Los Angeles Unified</td>\n",
       "      <td>Los Angeles</td>\n",
       "      <td>961</td>\n",
       "      <td>10</td>\n",
       "      <td>2</td>\n",
       "      <td>0</td>\n",
       "      <td>0</td>\n",
       "      <td>0</td>\n",
       "      <td>...</td>\n",
       "      <td>NaN</td>\n",
       "      <td>NaN</td>\n",
       "      <td>NaN</td>\n",
       "      <td>93</td>\n",
       "      <td>14</td>\n",
       "      <td>36</td>\n",
       "      <td>35</td>\n",
       "      <td>8</td>\n",
       "      <td>7</td>\n",
       "      <td>2.59</td>\n",
       "    </tr>\n",
       "    <tr>\n",
       "      <th>207</th>\n",
       "      <td>NaN</td>\n",
       "      <td>Lincoln Elementary</td>\n",
       "      <td>Oakland Unified</td>\n",
       "      <td>Alameda</td>\n",
       "      <td>957</td>\n",
       "      <td>10</td>\n",
       "      <td>3</td>\n",
       "      <td>0</td>\n",
       "      <td>87</td>\n",
       "      <td>2</td>\n",
       "      <td>...</td>\n",
       "      <td>24.0</td>\n",
       "      <td>30.0</td>\n",
       "      <td>NaN</td>\n",
       "      <td>46</td>\n",
       "      <td>19</td>\n",
       "      <td>37</td>\n",
       "      <td>18</td>\n",
       "      <td>17</td>\n",
       "      <td>8</td>\n",
       "      <td>2.59</td>\n",
       "    </tr>\n",
       "    <tr>\n",
       "      <th>221</th>\n",
       "      <td>D</td>\n",
       "      <td>Oakland Charter High</td>\n",
       "      <td>Oakland Unified</td>\n",
       "      <td>Alameda</td>\n",
       "      <td>956</td>\n",
       "      <td>10</td>\n",
       "      <td>5</td>\n",
       "      <td>0</td>\n",
       "      <td>29</td>\n",
       "      <td>0</td>\n",
       "      <td>...</td>\n",
       "      <td>NaN</td>\n",
       "      <td>NaN</td>\n",
       "      <td>5.0</td>\n",
       "      <td>70</td>\n",
       "      <td>44</td>\n",
       "      <td>35</td>\n",
       "      <td>15</td>\n",
       "      <td>6</td>\n",
       "      <td>0</td>\n",
       "      <td>1.83</td>\n",
       "    </tr>\n",
       "    <tr>\n",
       "      <th>445</th>\n",
       "      <td>NaN</td>\n",
       "      <td>Richardson Prep Hi</td>\n",
       "      <td>San Bernardino City Unified</td>\n",
       "      <td>San Bernardino</td>\n",
       "      <td>939</td>\n",
       "      <td>10</td>\n",
       "      <td>11</td>\n",
       "      <td>1</td>\n",
       "      <td>2</td>\n",
       "      <td>1</td>\n",
       "      <td>...</td>\n",
       "      <td>NaN</td>\n",
       "      <td>32.0</td>\n",
       "      <td>29.0</td>\n",
       "      <td>76</td>\n",
       "      <td>26</td>\n",
       "      <td>28</td>\n",
       "      <td>22</td>\n",
       "      <td>13</td>\n",
       "      <td>11</td>\n",
       "      <td>2.54</td>\n",
       "    </tr>\n",
       "    <tr>\n",
       "      <th>510</th>\n",
       "      <td>D</td>\n",
       "      <td>Synergy Charter Academy</td>\n",
       "      <td>Los Angeles Unified</td>\n",
       "      <td>Los Angeles</td>\n",
       "      <td>935</td>\n",
       "      <td>10</td>\n",
       "      <td>4</td>\n",
       "      <td>0</td>\n",
       "      <td>0</td>\n",
       "      <td>0</td>\n",
       "      <td>...</td>\n",
       "      <td>NaN</td>\n",
       "      <td>NaN</td>\n",
       "      <td>NaN</td>\n",
       "      <td>77</td>\n",
       "      <td>40</td>\n",
       "      <td>28</td>\n",
       "      <td>24</td>\n",
       "      <td>7</td>\n",
       "      <td>1</td>\n",
       "      <td>2.03</td>\n",
       "    </tr>\n",
       "    <tr>\n",
       "      <th>542</th>\n",
       "      <td>Y</td>\n",
       "      <td>Sixth Street Prep</td>\n",
       "      <td>Victor Elementary</td>\n",
       "      <td>San Bernardino</td>\n",
       "      <td>933</td>\n",
       "      <td>10</td>\n",
       "      <td>8</td>\n",
       "      <td>1</td>\n",
       "      <td>1</td>\n",
       "      <td>0</td>\n",
       "      <td>...</td>\n",
       "      <td>22.0</td>\n",
       "      <td>34.0</td>\n",
       "      <td>NaN</td>\n",
       "      <td>92</td>\n",
       "      <td>36</td>\n",
       "      <td>23</td>\n",
       "      <td>20</td>\n",
       "      <td>9</td>\n",
       "      <td>13</td>\n",
       "      <td>2.38</td>\n",
       "    </tr>\n",
       "    <tr>\n",
       "      <th>683</th>\n",
       "      <td>D</td>\n",
       "      <td>KIPP Los Angeles College Preparatory</td>\n",
       "      <td>Los Angeles Unified</td>\n",
       "      <td>Los Angeles</td>\n",
       "      <td>925</td>\n",
       "      <td>10</td>\n",
       "      <td>1</td>\n",
       "      <td>0</td>\n",
       "      <td>2</td>\n",
       "      <td>0</td>\n",
       "      <td>...</td>\n",
       "      <td>NaN</td>\n",
       "      <td>NaN</td>\n",
       "      <td>NaN</td>\n",
       "      <td>99</td>\n",
       "      <td>28</td>\n",
       "      <td>37</td>\n",
       "      <td>27</td>\n",
       "      <td>4</td>\n",
       "      <td>4</td>\n",
       "      <td>2.20</td>\n",
       "    </tr>\n",
       "    <tr>\n",
       "      <th>702</th>\n",
       "      <td>D</td>\n",
       "      <td>Rocketship Mateo Sheedy Elementary</td>\n",
       "      <td>Santa Clara County Office of E</td>\n",
       "      <td>Santa Clara</td>\n",
       "      <td>924</td>\n",
       "      <td>10</td>\n",
       "      <td>1</td>\n",
       "      <td>0</td>\n",
       "      <td>1</td>\n",
       "      <td>0</td>\n",
       "      <td>...</td>\n",
       "      <td>24.0</td>\n",
       "      <td>25.0</td>\n",
       "      <td>NaN</td>\n",
       "      <td>91</td>\n",
       "      <td>45</td>\n",
       "      <td>24</td>\n",
       "      <td>14</td>\n",
       "      <td>11</td>\n",
       "      <td>7</td>\n",
       "      <td>2.10</td>\n",
       "    </tr>\n",
       "    <tr>\n",
       "      <th>739</th>\n",
       "      <td>NaN</td>\n",
       "      <td>Solano Avenue Elementary</td>\n",
       "      <td>Los Angeles Unified</td>\n",
       "      <td>Los Angeles</td>\n",
       "      <td>922</td>\n",
       "      <td>10</td>\n",
       "      <td>4</td>\n",
       "      <td>1</td>\n",
       "      <td>50</td>\n",
       "      <td>2</td>\n",
       "      <td>...</td>\n",
       "      <td>19.0</td>\n",
       "      <td>17.0</td>\n",
       "      <td>NaN</td>\n",
       "      <td>89</td>\n",
       "      <td>19</td>\n",
       "      <td>26</td>\n",
       "      <td>28</td>\n",
       "      <td>20</td>\n",
       "      <td>7</td>\n",
       "      <td>2.70</td>\n",
       "    </tr>\n",
       "    <tr>\n",
       "      <th>788</th>\n",
       "      <td>NaN</td>\n",
       "      <td>Laurel Street Elementary</td>\n",
       "      <td>Compton Unified</td>\n",
       "      <td>Los Angeles</td>\n",
       "      <td>920</td>\n",
       "      <td>9</td>\n",
       "      <td>20</td>\n",
       "      <td>0</td>\n",
       "      <td>0</td>\n",
       "      <td>0</td>\n",
       "      <td>...</td>\n",
       "      <td>28.0</td>\n",
       "      <td>31.0</td>\n",
       "      <td>NaN</td>\n",
       "      <td>90</td>\n",
       "      <td>46</td>\n",
       "      <td>31</td>\n",
       "      <td>16</td>\n",
       "      <td>5</td>\n",
       "      <td>1</td>\n",
       "      <td>1.84</td>\n",
       "    </tr>\n",
       "    <tr>\n",
       "      <th>865</th>\n",
       "      <td>NaN</td>\n",
       "      <td>Middle College High</td>\n",
       "      <td>San Bernardino City Unified</td>\n",
       "      <td>San Bernardino</td>\n",
       "      <td>916</td>\n",
       "      <td>10</td>\n",
       "      <td>9</td>\n",
       "      <td>1</td>\n",
       "      <td>1</td>\n",
       "      <td>2</td>\n",
       "      <td>...</td>\n",
       "      <td>NaN</td>\n",
       "      <td>NaN</td>\n",
       "      <td>22.0</td>\n",
       "      <td>85</td>\n",
       "      <td>22</td>\n",
       "      <td>29</td>\n",
       "      <td>30</td>\n",
       "      <td>14</td>\n",
       "      <td>5</td>\n",
       "      <td>2.51</td>\n",
       "    </tr>\n",
       "    <tr>\n",
       "      <th>939</th>\n",
       "      <td>NaN</td>\n",
       "      <td>Design Science Early College High</td>\n",
       "      <td>Fresno Unified</td>\n",
       "      <td>Fresno</td>\n",
       "      <td>913</td>\n",
       "      <td>10</td>\n",
       "      <td>7</td>\n",
       "      <td>0</td>\n",
       "      <td>18</td>\n",
       "      <td>0</td>\n",
       "      <td>...</td>\n",
       "      <td>NaN</td>\n",
       "      <td>NaN</td>\n",
       "      <td>29.0</td>\n",
       "      <td>95</td>\n",
       "      <td>18</td>\n",
       "      <td>31</td>\n",
       "      <td>35</td>\n",
       "      <td>8</td>\n",
       "      <td>8</td>\n",
       "      <td>2.56</td>\n",
       "    </tr>\n",
       "    <tr>\n",
       "      <th>964</th>\n",
       "      <td>NaN</td>\n",
       "      <td>Frank Lanterman</td>\n",
       "      <td>Los Angeles Unified</td>\n",
       "      <td>Los Angeles</td>\n",
       "      <td>912</td>\n",
       "      <td>C</td>\n",
       "      <td>12</td>\n",
       "      <td>0</td>\n",
       "      <td>2</td>\n",
       "      <td>4</td>\n",
       "      <td>...</td>\n",
       "      <td>NaN</td>\n",
       "      <td>NaN</td>\n",
       "      <td>11.0</td>\n",
       "      <td>49</td>\n",
       "      <td>31</td>\n",
       "      <td>31</td>\n",
       "      <td>18</td>\n",
       "      <td>16</td>\n",
       "      <td>4</td>\n",
       "      <td>2.31</td>\n",
       "    </tr>\n",
       "    <tr>\n",
       "      <th>1054</th>\n",
       "      <td>D</td>\n",
       "      <td>Futuro College Preparatory Elementary</td>\n",
       "      <td>Los Angeles Unified</td>\n",
       "      <td>Los Angeles</td>\n",
       "      <td>908</td>\n",
       "      <td>9</td>\n",
       "      <td>0</td>\n",
       "      <td>0</td>\n",
       "      <td>0</td>\n",
       "      <td>0</td>\n",
       "      <td>...</td>\n",
       "      <td>32.0</td>\n",
       "      <td>NaN</td>\n",
       "      <td>NaN</td>\n",
       "      <td>98</td>\n",
       "      <td>28</td>\n",
       "      <td>29</td>\n",
       "      <td>31</td>\n",
       "      <td>8</td>\n",
       "      <td>5</td>\n",
       "      <td>2.32</td>\n",
       "    </tr>\n",
       "    <tr>\n",
       "      <th>1071</th>\n",
       "      <td>D</td>\n",
       "      <td>KIPP Heartwood Academy</td>\n",
       "      <td>Alum Rock Union Elementary</td>\n",
       "      <td>Santa Clara</td>\n",
       "      <td>907</td>\n",
       "      <td>9</td>\n",
       "      <td>2</td>\n",
       "      <td>0</td>\n",
       "      <td>15</td>\n",
       "      <td>2</td>\n",
       "      <td>...</td>\n",
       "      <td>NaN</td>\n",
       "      <td>34.0</td>\n",
       "      <td>31.0</td>\n",
       "      <td>91</td>\n",
       "      <td>39</td>\n",
       "      <td>26</td>\n",
       "      <td>19</td>\n",
       "      <td>12</td>\n",
       "      <td>4</td>\n",
       "      <td>2.16</td>\n",
       "    </tr>\n",
       "  </tbody>\n",
       "</table>\n",
       "<p>17 rows × 30 columns</p>\n",
       "</div>"
      ],
      "text/plain": [
       "     CHARTER                                     SNAME  \\\n",
       "15       NaN             Chin (John Yehall) Elementary   \n",
       "51         D  American Indian Public Charter School II   \n",
       "161        D                       KIPP Raices Academy   \n",
       "207      NaN                        Lincoln Elementary   \n",
       "221        D                      Oakland Charter High   \n",
       "445      NaN                        Richardson Prep Hi   \n",
       "510        D                   Synergy Charter Academy   \n",
       "542        Y                         Sixth Street Prep   \n",
       "683        D      KIPP Los Angeles College Preparatory   \n",
       "702        D        Rocketship Mateo Sheedy Elementary   \n",
       "739      NaN                  Solano Avenue Elementary   \n",
       "788      NaN                  Laurel Street Elementary   \n",
       "865      NaN                       Middle College High   \n",
       "939      NaN         Design Science Early College High   \n",
       "964      NaN                           Frank Lanterman   \n",
       "1054       D     Futuro College Preparatory Elementary   \n",
       "1071       D                    KIPP Heartwood Academy   \n",
       "\n",
       "                               DNAME           CNAME  API12B ST_RANK  PCT_AA  \\\n",
       "15             San Francisco Unified   San Francisco     989      10       1   \n",
       "51                   Oakland Unified         Alameda     978      10       5   \n",
       "161              Los Angeles Unified     Los Angeles     961      10       2   \n",
       "207                  Oakland Unified         Alameda     957      10       3   \n",
       "221                  Oakland Unified         Alameda     956      10       5   \n",
       "445      San Bernardino City Unified  San Bernardino     939      10      11   \n",
       "510              Los Angeles Unified     Los Angeles     935      10       4   \n",
       "542                Victor Elementary  San Bernardino     933      10       8   \n",
       "683              Los Angeles Unified     Los Angeles     925      10       1   \n",
       "702   Santa Clara County Office of E     Santa Clara     924      10       1   \n",
       "739              Los Angeles Unified     Los Angeles     922      10       4   \n",
       "788                  Compton Unified     Los Angeles     920       9      20   \n",
       "865      San Bernardino City Unified  San Bernardino     916      10       9   \n",
       "939                   Fresno Unified          Fresno     913      10       7   \n",
       "964              Los Angeles Unified     Los Angeles     912       C      12   \n",
       "1054             Los Angeles Unified     Los Angeles     908       9       0   \n",
       "1071      Alum Rock Union Elementary     Santa Clara     907       9       2   \n",
       "\n",
       "      PCT_AI  PCT_AS  PCT_FI   ...    ACS_K3  ACS_46  ACS_CORE  PCT_RESP  \\\n",
       "15         0      88       1   ...      21.0    27.0       NaN        96   \n",
       "51         1      84       0   ...       NaN     2.0       NaN        14   \n",
       "161        0       0       0   ...       NaN     NaN       NaN        93   \n",
       "207        0      87       2   ...      24.0    30.0       NaN        46   \n",
       "221        0      29       0   ...       NaN     NaN       5.0        70   \n",
       "445        1       2       1   ...       NaN    32.0      29.0        76   \n",
       "510        0       0       0   ...       NaN     NaN       NaN        77   \n",
       "542        1       1       0   ...      22.0    34.0       NaN        92   \n",
       "683        0       2       0   ...       NaN     NaN       NaN        99   \n",
       "702        0       1       0   ...      24.0    25.0       NaN        91   \n",
       "739        1      50       2   ...      19.0    17.0       NaN        89   \n",
       "788        0       0       0   ...      28.0    31.0       NaN        90   \n",
       "865        1       1       2   ...       NaN     NaN      22.0        85   \n",
       "939        0      18       0   ...       NaN     NaN      29.0        95   \n",
       "964        0       2       4   ...       NaN     NaN      11.0        49   \n",
       "1054       0       0       0   ...      32.0     NaN       NaN        98   \n",
       "1071       0      15       2   ...       NaN    34.0      31.0        91   \n",
       "\n",
       "      NOT_HSG  HSG  SOME_COL  COL_GRAD  GRAD_SCH  AVG_ED  \n",
       "15         17   47        11        22         3    2.47  \n",
       "51         40   14        26        21         0    2.28  \n",
       "161        14   36        35         8         7    2.59  \n",
       "207        19   37        18        17         8    2.59  \n",
       "221        44   35        15         6         0    1.83  \n",
       "445        26   28        22        13        11    2.54  \n",
       "510        40   28        24         7         1    2.03  \n",
       "542        36   23        20         9        13    2.38  \n",
       "683        28   37        27         4         4    2.20  \n",
       "702        45   24        14        11         7    2.10  \n",
       "739        19   26        28        20         7    2.70  \n",
       "788        46   31        16         5         1    1.84  \n",
       "865        22   29        30        14         5    2.51  \n",
       "939        18   31        35         8         8    2.56  \n",
       "964        31   31        18        16         4    2.31  \n",
       "1054       28   29        31         8         5    2.32  \n",
       "1071       39   26        19        12         4    2.16  \n",
       "\n",
       "[17 rows x 30 columns]"
      ]
     },
     "execution_count": 16,
     "metadata": {},
     "output_type": "execute_result"
    }
   ],
   "source": [
    "# Print out all schools with MEALS greater than 80 and API12B > 900\n",
    "df[(df.MEALS >= 80) & (df.API12B > 900)] "
   ]
  },
  {
   "cell_type": "markdown",
   "metadata": {},
   "source": [
    "Let's look specifically at Solano Avenue Elementary, which has an `API12B` of 922 and 80 percent of students being in the free/reduced lunch program. \n",
    "\n",
    "How well would we expect this school to do, based on its `MEALS` of 80?"
   ]
  },
  {
   "cell_type": "code",
   "execution_count": 17,
   "metadata": {},
   "outputs": [
    {
     "data": {
      "text/plain": [
       "array([749.6728627])"
      ]
     },
     "execution_count": 17,
     "metadata": {},
     "output_type": "execute_result"
    }
   ],
   "source": [
    "# Use the linear model to predict the score for this school\n",
    "m*df.MEALS[739]+b"
   ]
  },
  {
   "cell_type": "markdown",
   "metadata": {},
   "source": [
    "With an index of 922, clearly the school is overperforming what our simplified model expects. What is different about this school? Use your favorite search engine to look for relevant articles and see if you can figure out anything that might matter (remembering that our data is from 2012)"
   ]
  },
  {
   "cell_type": "markdown",
   "metadata": {},
   "source": [
    "(your answer here)"
   ]
  }
 ],
 "metadata": {
  "kernelspec": {
   "display_name": "Python 3",
   "language": "python",
   "name": "python3"
  },
  "language_info": {
   "codemirror_mode": {
    "name": "ipython",
    "version": 3
   },
   "file_extension": ".py",
   "mimetype": "text/x-python",
   "name": "python",
   "nbconvert_exporter": "python",
   "pygments_lexer": "ipython3",
   "version": "3.6.5"
  }
 },
 "nbformat": 4,
 "nbformat_minor": 1
}
